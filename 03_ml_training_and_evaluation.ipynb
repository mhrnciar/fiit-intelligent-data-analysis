{
 "cells": [
  {
   "cell_type": "code",
   "execution_count": null,
   "id": "d802e6a9-f7fc-4521-b536-023ba49e91c9",
   "metadata": {},
   "outputs": [],
   "source": [
    "import numpy as np\n",
    "import pandas as pd\n",
    "import matplotlib as mpl\n",
    "import matplotlib.pyplot as plt\n",
    "import seaborn as sns\n",
    "import scipy.stats as stats\n",
    "sns.set(rc={'figure.figsize':(15, 10)})"
   ]
  },
  {
   "cell_type": "markdown",
   "id": "6ae6bb48-d170-4123-9e06-d173c864d3ee",
   "metadata": {},
   "source": [
    "# Načítavanie dát\n",
    "\n",
    "Do premenných `train` a `test` si načítame trénovacie a testovacie údaje, ktoré sme si uložili vo fáze 2."
   ]
  },
  {
   "cell_type": "code",
   "execution_count": null,
   "id": "8906af5e-79b8-497b-8b87-87703b4b2541",
   "metadata": {},
   "outputs": [],
   "source": [
    "train = pd.read_csv('data/train.csv', index_col=0)\n",
    "test = pd.read_csv('data/test.csv', index_col=0)"
   ]
  },
  {
   "cell_type": "markdown",
   "id": "dcdafde6-4587-49e0-91d1-e8ef8bf8b332",
   "metadata": {},
   "source": [
    "Vytvoríme si pre každý z vybraných parametrov a vykreslíme si ho, pričom si hodnoty farebne rozdelíme podľa atribútu `indicator`. V scatterplotoch nevidíme výrazné rozdiely, aj keď pri premenných `2` a `3` môžeme pozorovať rozdelenie bodov na dve časti."
   ]
  },
  {
   "cell_type": "code",
   "execution_count": null,
   "id": "b2132abc-f570-40ca-80f0-96aba22cbd60",
   "metadata": {},
   "outputs": [],
   "source": [
    "for i in range (5):\n",
    "    sns.scatterplot(data=train.reset_index(), x='index', y=str(i), hue='indicator')\n",
    "    plt.show();"
   ]
  },
  {
   "cell_type": "markdown",
   "id": "5b34d490-7442-42db-9664-78c5dab01949",
   "metadata": {},
   "source": [
    "Pre lepšiu vizualizáciu skúsime použiť kernel density estimation grafy, a teraz môžeme zreteľne vidieť, že premenné `2` a `3` nadobúdajú rozdielne hodnoty keď je indikátor 0 a keď je 1."
   ]
  },
  {
   "cell_type": "code",
   "execution_count": null,
   "id": "93be1067-0247-48dc-af8d-eadd3fc67979",
   "metadata": {},
   "outputs": [],
   "source": [
    "for i in range (5):\n",
    "    train.groupby('indicator')[str(i)].plot(kind='kde')\n",
    "    plt.title(i)\n",
    "    plt.show();"
   ]
  },
  {
   "cell_type": "markdown",
   "id": "4fd898d8-59b1-4fae-bc2e-67abed861e60",
   "metadata": {},
   "source": [
    "Dáta síce máme rozdelené na trénovaciu a testovaciu množinu, ale máme všetky hodnoty v jednej tabuľke. Pre správne trénovanie modelu potrebujeme rozdeliť tabuľku na X (všetky trénovacie hodnoty) a y (predikované hodnoty, labels)."
   ]
  },
  {
   "cell_type": "code",
   "execution_count": null,
   "id": "c55ab22d-4069-4079-9660-dbfbb1e623e8",
   "metadata": {},
   "outputs": [],
   "source": [
    "X_train, y_train = train.iloc[:, :-1], train.iloc[:, -1]\n",
    "X_test, y_test = test.iloc[:, :-1], test.iloc[:, -1]\n",
    "X_train"
   ]
  },
  {
   "cell_type": "markdown",
   "id": "1c51fef2-107e-4bd0-aff8-deeed526dc3b",
   "metadata": {},
   "source": [
    "# One-rule algoritmus\n",
    "\n",
    "Najprv skúsime vytvoriť vlasntý prediktor hodnoty `indicator` na základe pevne stanovených pravidiel. Kedže najvýraznejšie rozdiely sme mohli pozorovať pri atribútoch `2` a `3`, použijeme tieto premenné vo funkcii `one_rule(row)`. \n",
    "\n",
    "1R algoritmus zvyčajne predikuje výsledok na základe jednej premennej, ale my sme sa ho rozhodli jemne zlepšiť a rozšíriť, nakoľko pri ňom pracujeme s dvoma atribútmi. Pevnú hranicu si stanovíme podľa kernel density estimation grafov vyššie, konkrétne podľa miesta, kde sa graf s indikátorom 0 pretína s grafom s indikátorom 1. To sa dá približne určiť ako priemerná hodnota priemeru atribútu s indikátorom 1 a priemeru atribútu s indikátorom 0. V našom prípade sme použili atribúty `2` a `3`, pričom atribút `2` má hranicu približne v 0.50 a `3` v 0.40.\n",
    "\n",
    "Pre každú kombináciu atribútov vrátime výsledok, pričom kladieme väčší význam atribútu `2`, nakoľko má lepšie viditeľný priesečník grafov a zároveň grafy vyzerajú byť z normálneho rozdelenia, na rozdiel od atribútu `3`."
   ]
  },
  {
   "cell_type": "code",
   "execution_count": null,
   "id": "cb6423d2-a6fa-41c2-8db5-204211ebdaf4",
   "metadata": {},
   "outputs": [],
   "source": [
    "def one_rule(data):\n",
    "    a2 = data.loc[data.indicator == 1, '2']\n",
    "    b2 = data.loc[data.indicator == 0, '2']\n",
    "\n",
    "    a3 = data.loc[data.indicator == 1, '3']\n",
    "    b3 = data.loc[data.indicator == 0, '3']\n",
    "\n",
    "    interp_2 = (a2.mean() + b2.mean()) / 2\n",
    "    interp_3 = (a3.mean() + b3.mean()) / 2\n",
    "\n",
    "    result = []\n",
    "\n",
    "    for index, row in data.iterrows():\n",
    "        if row['2'] < interp_2 and row['3'] >= interp_3:\n",
    "            result.append(1)\n",
    "        elif row['2'] < interp_2 and row['3'] < interp_3:\n",
    "            result.append(1)\n",
    "        elif row['2'] >= interp_2 and row['3'] < interp_3:\n",
    "            result.append(0)\n",
    "        elif row['2'] >= interp_2 and row['3'] >= interp_3:\n",
    "            result.append(0)\n",
    "\n",
    "    return result"
   ]
  },
  {
   "cell_type": "markdown",
   "id": "b667c186-9510-46e6-9d25-c2f3a5d9d7e5",
   "metadata": {},
   "source": [
    "Funkcionalitu `one_rule()` aplikujeme na trénovaciu množinu a výsledok si uložíme do premennej `predict`. Pomocou `.head()` si vypíšeme prvých 5 predikovaných hodnôt a vidíme že sa nám do nich pekne uložila predikovaná hodnota - `indicator`."
   ]
  },
  {
   "cell_type": "code",
   "execution_count": null,
   "id": "b1be9fcc-4bfc-4dff-bba1-9dfef1c2d4bb",
   "metadata": {},
   "outputs": [],
   "source": [
    "pred = one_rule(train)\n",
    "pred[:5]"
   ]
  },
  {
   "cell_type": "markdown",
   "id": "8863ba9f-8032-4b16-b476-87a622beedac",
   "metadata": {},
   "source": [
    "Po uložení predikovaných hodnôt si pomocou `sklearn.metrics` a funkcií `accuracy_score`, `recall_score`, a `precision_score` zistíme úspešnosť predikovania indikátorov našim modelom porovnaním s reálnymi hodnotami indikátoru v testovacej množine.\n",
    "\n",
    "### Accuracy\n",
    "Accuracy, alebo presnosť, predstavuje mieru správnosti merania, teda koľko pozorovaní bolo správne označených za pozitívne a negatívne v testovanej množine. Túto metriku možno získať použitím vzorca:\n",
    "\n",
    "$Accuracy=\\frac{TP+TN}{TP+FP+TN+FN}$\n",
    "\n",
    "TP je pravé pozitívum (jednotka je tam kde mala byť), TN je pravé negatívum (nula je tam kde mala byť) a FP a FN sú falošné pozitíva a negatíva. Vo všeobecnosti platí, že čím vyššia presnosť, tým lepší model, ale samozrejme model s presnosťou 100% pravdepodobne overfittuje a vôbec nie je dobrým modelom. To sa však dá overiť ďalšími metrikami a aj grafmi.\n",
    "\n",
    "### Precision\n",
    "Precision, alebo precíznosť, je pomer pravých pozitív a súčtu všetkých pozitív, teda aj falošných, v testovanej množine. Vysoká precíznosť naznačuje nízku pravdepodobnosť falošných pozitív. \n",
    "\n",
    "$Precision=\\frac{TP}{TP+FP}$\n",
    "\n",
    "\n",
    "### Recall\n",
    "Recall, alebo aj citlivosť, je pomer pravých pozitív a súčtu pravých pozitív a falošných negatív. Recall napovedá, koľko pozorovaní z testovanej množiny sme správne označili za pozitíva.\n",
    "\n",
    "$Recall=\\frac{TP}{TP+FN}$\n",
    "\n",
    "Náš model má relatívne vysokú precíznosť a presnosť 83% nie je najhoršia, ale môže byť oveľa lepšia."
   ]
  },
  {
   "cell_type": "code",
   "execution_count": null,
   "id": "304e2187-2d3b-42d8-b405-21bc65cd34bb",
   "metadata": {},
   "outputs": [],
   "source": [
    "from sklearn.metrics import accuracy_score, recall_score, precision_score\n",
    "\n",
    "print('Accuracy:', accuracy_score(y_train, pred))\n",
    "print('Precision:', precision_score(y_train, pred))\n",
    "print('Recall:', recall_score(y_train, pred))"
   ]
  },
  {
   "cell_type": "markdown",
   "id": "e1c38823-ef8e-48f5-ba2e-a6526a52bad6",
   "metadata": {},
   "source": [
    "# Rozhodovací strom\n",
    "\n",
    "Urobme si teraz klasifikátor pomocou rozhodovacieho stromu za pomoci `DecisionTreeClassifier` pričom si určíme maximálnu hĺbku stromu 3 a `random_state=0`, aby sme vedeli replikovať ten istý výsledok. \n",
    "\n",
    "Natrénovaný rozhodovací strom si dáme vykresliť a môžeme pozorovať, že sme sa rozhodli správne, keď sme v 1R algoritme predikovali na základe atribútov `2` a `3`. Všetky rozhodnutia v tomto strome boli na základe týchto dvoch atribútov, aj keď samozrejme hranice rozhodovania boli precíznejšie a komplexnejšie ako pri 1R."
   ]
  },
  {
   "cell_type": "code",
   "execution_count": null,
   "id": "bd6e040e-e0d5-4973-a562-b1388d7d8c57",
   "metadata": {},
   "outputs": [],
   "source": [
    "from sklearn.model_selection import cross_val_score\n",
    "from sklearn.tree import DecisionTreeClassifier\n",
    "from sklearn import tree\n",
    "\n",
    "clf = DecisionTreeClassifier(max_depth=3, random_state=0)\n",
    "clf.fit(X_train, y_train)\n",
    "tree.plot_tree(clf);"
   ]
  },
  {
   "cell_type": "markdown",
   "id": "7c6828d5-2527-48ec-bf07-75db42890b22",
   "metadata": {},
   "source": [
    "#### Vyhodnotenie DecisionTreeClassification modelu:\n",
    "\n",
    "Urobíme si predikciu daného klasifikátora podľa rozhodovacieho stromu a vidíme, že hodnoty presnosť a recall sú vyššie ako nami vytvorený jednoduchý 1R klasifikátor, pričom recall presiahol 90%. Naopak, rozhodovací strom vykazuje nižšiu precíznosť ako 1R algoritmus."
   ]
  },
  {
   "cell_type": "code",
   "execution_count": null,
   "id": "85b05cb0-5daf-4905-b572-fe45359d1241",
   "metadata": {},
   "outputs": [],
   "source": [
    "pred = clf.predict(X_test)\n",
    "\n",
    "print('Accuracy:', accuracy_score(y_test, pred))\n",
    "print('Precision:', precision_score(y_test, pred))\n",
    "print('Recall:', recall_score(y_test, pred))"
   ]
  },
  {
   "cell_type": "markdown",
   "id": "086cdd0e-c01e-410a-8375-d00d80122691",
   "metadata": {},
   "source": [
    "Urobíme si cross-validáciu, pri ktorej môžeme pozorovať, že skóre sa pohybuje okolo 85% so štandardnou odchýlkou 2%. To je celkom dobrý výsledok, aj keď samozrejme može byť oveľa lepší."
   ]
  },
  {
   "cell_type": "code",
   "execution_count": null,
   "id": "abb13e8f-064d-4f06-b498-58547808455d",
   "metadata": {},
   "outputs": [],
   "source": [
    "from sklearn.model_selection import cross_val_score\n",
    "\n",
    "scores = cross_val_score(clf, X_test, y_test, cv=10)\n",
    "print(\"Presnost %0.2f so standardnou odchylkou %0.2f\" % (scores.mean(), scores.std()))"
   ]
  },
  {
   "cell_type": "markdown",
   "id": "ab45200e",
   "metadata": {},
   "source": [
    "Teraz si môžeme vyskúšať, či zmena hĺbky stromu nezlepší presnosť modelu. Natrénujeme si 30 modelov s hĺbkami od 1 do 30 a porovnáme presnosť na trénovacej s testovacou množinou. Chybovosť trénovacej množiny klesá, čo je očakávané, ale od hĺbky 20 môžeme pozorovať, že chybovosť je takmer nulová, čo nám napovedá, že nastáva overfitting.\n",
    "\n",
    "Zaujímavosťou je, že síce chyba na trénovacej množine klesá, na testovacej klesá iba po maximálnu hĺbku 4, a potom začne opäť stúpať. Model, ktorý sme si teda natrénovali ako prvý s maximálnou hĺbkou 3 nebol až tak zlý, aj keď samozrejme presnosť môže byť stále lepšia."
   ]
  },
  {
   "cell_type": "code",
   "execution_count": null,
   "id": "7a2c8294-6d95-4629-a36c-c040c634a4a0",
   "metadata": {},
   "outputs": [],
   "source": [
    "results = []\n",
    "estimators = []\n",
    "for i in range(1, 31):  \n",
    "    row = {'model_complexity': i}\n",
    "    clf = DecisionTreeClassifier(max_depth = i, random_state=0) \n",
    "    \n",
    "    pred = clf.fit(X_train, y_train).predict(X_train) \n",
    "    row['train'] = 1 - accuracy_score(y_train, pred) \n",
    "    \n",
    "    pred = clf.predict(X_test)\n",
    "    row['test'] = 1 - accuracy_score(y_test, pred) \n",
    "    results.append(row)\n",
    "    estimators.append(clf)\n",
    "\n",
    "complexity_df = pd.DataFrame(results).plot(x='model_complexity')"
   ]
  },
  {
   "cell_type": "markdown",
   "id": "96d7136e",
   "metadata": {},
   "source": [
    "Následne môžeme vyskúšať `GridSearchCV` na dôkladné preskúmanie rôznych kombinácií parametrov aby sme našli najlepší možný model. Vyskúšame kombinácie hodnotiaceho kritéria, spôsobu delenia stromu a maximálnej hĺbky. `GridSearch` potvrdil, že najlepšia hĺbka je 3, s kritériom gini a delením podľa najlepšieho, čo sú zároveň aj prednastavené možnosti pri rozhodovacích stromoch."
   ]
  },
  {
   "cell_type": "code",
   "execution_count": null,
   "id": "e786f127",
   "metadata": {},
   "outputs": [],
   "source": [
    "from sklearn.model_selection import GridSearchCV\n",
    "\n",
    "parameters = {'criterion': ['gini', 'entropy'],\n",
    "              'splitter': ['best', 'random'],\n",
    "              'max_depth': [1, 2, 3, 4, 5, 6, 7, 8, 9, 10]}\n",
    "\n",
    "dtc = DecisionTreeClassifier()\n",
    "clf = GridSearchCV(dtc, parameters, scoring='accuracy', cv=5)\n",
    "clf.fit(X_train, y_train)\n",
    "\n",
    "clf.best_params_"
   ]
  },
  {
   "cell_type": "markdown",
   "id": "6fb56d30-6209-49c7-9cc8-aeb8dc2fb31f",
   "metadata": {},
   "source": [
    "# Random Forest\n",
    "\n",
    "Ak chceme vylepšiť presnosť, môžeme skúsiť klasifikovanie pomocou `RandomForestClassifier`, čo je viacero náhodne vygenerovaných stromov, z náhodných podmnožín trénovacej množiny. Následne sa výsledky spriemerujú, čo vylepšuje presnosť a pôsobí ako prevencia pred overfittingom."
   ]
  },
  {
   "cell_type": "code",
   "execution_count": null,
   "id": "c71af95f-048d-41d9-8071-8598ce24d591",
   "metadata": {},
   "outputs": [],
   "source": [
    "from sklearn.ensemble import RandomForestClassifier\n",
    "\n",
    "rfc = RandomForestClassifier(max_depth=3, random_state=42)\n",
    "rfc.fit(X_train, y_train)\n",
    "pred = rfc.predict(X_test)\n",
    "\n",
    "print('Accuracy:', accuracy_score(y_test, pred))\n",
    "print('Precision:', precision_score(y_test, pred))\n",
    "print('Recall:', recall_score(y_test, pred))"
   ]
  },
  {
   "cell_type": "markdown",
   "id": "c351fe26-c56f-49ec-85c4-3d8a8dc4afe9",
   "metadata": {},
   "source": [
    "Môžeme vidieť, že použitie `RandomForest` klasifikátora presnosť veľmi nevylepšuje. Môžeme si spraviť cross-validáciu, ale výsledné skóre sú približne rovnaké ako pri rozhodovacom strome. Môžeme ešte vyskúšať viacero maximálnych hĺbok stromov, kde už môžeme vidieť mierne zlepšenie, ale iba do hĺbky 2. Následne je chybovosť testovacej množiny približne konštantná."
   ]
  },
  {
   "cell_type": "code",
   "execution_count": null,
   "id": "aebf398d-d91e-42ef-bcc1-7e5005b50e1a",
   "metadata": {},
   "outputs": [],
   "source": [
    "scores = cross_val_score(rfc, X_test, y_test, cv=10)\n",
    "print(\"Presnost %0.2f so standardnou odchylkou %0.2f\" % (scores.mean(), scores.std()))"
   ]
  },
  {
   "cell_type": "code",
   "execution_count": null,
   "id": "574a8f55-e48f-472d-976f-8ad5e90a20e1",
   "metadata": {},
   "outputs": [],
   "source": [
    "results = []\n",
    "estimators = []\n",
    "for i in range(1, 21):  \n",
    "    row = {'model_complexity': i}\n",
    "    rfc = RandomForestClassifier(max_depth = i, random_state=42) \n",
    "\n",
    "    pred = rfc.fit(X_train, y_train).predict(X_train) \n",
    "    row['train'] = 1 - accuracy_score(y_train, pred) \n",
    "    \n",
    "    pred = rfc.predict(X_test)\n",
    "    row['test'] = 1 - accuracy_score(y_test, pred) \n",
    "    results.append(row)\n",
    "    estimators.append(rfc)\n",
    "    \n",
    "complexity_df = pd.DataFrame(results).plot(x='model_complexity')"
   ]
  },
  {
   "cell_type": "markdown",
   "id": "e3402e48",
   "metadata": {},
   "source": [
    "Opäť teda skúsime použiť `GridSearchCV`. Ako parametre určíme bootstrap, ktorý určuje či sa použijú vzorky alebo celý dataset na tvorbu stromov, criterion, teda funkciu merania kvality rozhodnutia, maximálnu hĺbku a počet stromov v lese. Tentokrát `GridSearch` vyhodnotí, že najlepšie výsledky vrátil klasifikátor bez bootstrap, entropy funkciou, maximálnou hĺbkou 5 a počtom stromov 100.\n",
    "\n",
    "POZOR! Tento `GridSearch` beží približne 20 minút!"
   ]
  },
  {
   "cell_type": "code",
   "execution_count": null,
   "id": "b5701645",
   "metadata": {},
   "outputs": [],
   "source": [
    "parameters = {'bootstrap': [True, False],\n",
    "              'criterion': ['gini', 'entropy'],\n",
    "              'max_depth': [1, 2, 3, 4, 5],\n",
    "              'n_estimators': [100, 400, 1000]}\n",
    "\n",
    "rfc = RandomForestClassifier()\n",
    "clf = GridSearchCV(rfc, parameters, scoring='accuracy', cv=5)\n",
    "clf.fit(X_train, y_train)\n",
    "\n",
    "clf.best_params_"
   ]
  },
  {
   "cell_type": "markdown",
   "id": "951aca04",
   "metadata": {},
   "source": [
    "Napriek tomu môžeme vidieť, že metriky sa zlepšili iba minimálne a ani jedna nepresiahla 90%. Vyskúšame teda cross-validáciu, ale vidíme, že výsledky sú rovnaké ako pri pôvodnom `RandomForest` klasifikátore."
   ]
  },
  {
   "cell_type": "code",
   "execution_count": null,
   "id": "31706215",
   "metadata": {},
   "outputs": [],
   "source": [
    "pred = clf.best_estimator_.predict(X_test)\n",
    "\n",
    "print('Accuracy:', accuracy_score(y_test, pred))\n",
    "print('Precision:', precision_score(y_test, pred))\n",
    "print('Recall:', recall_score(y_test, pred))"
   ]
  },
  {
   "cell_type": "code",
   "execution_count": null,
   "id": "74017aa3",
   "metadata": {},
   "outputs": [],
   "source": [
    "scores = cross_val_score(clf.best_estimator_, X_test, y_test, cv=10)\n",
    "print(\"Presnost %0.2f so standardnou odchylkou %0.2f\" % (scores.mean(), scores.std()))"
   ]
  },
  {
   "cell_type": "markdown",
   "id": "90450316-de9b-45f0-9e21-82c1ec17288a",
   "metadata": {},
   "source": [
    "# Porovnanie natrénovaných klasifikátorov s one-rule algoritmom\n",
    "\n",
    "-> **V nami manuálne vytvorenými pravidlami (one-rule)** sme dostali nasledovné hodnoty:\n",
    "\n",
    "**Accuracy**: 0.8324038743762842\n",
    "**Precision**: 0.9047263681592039\n",
    "**Recall**: 0.8273430391264787\n",
    "\n",
    "->**podľa DecisionTreeClassifier** natrénovaný klasifikátor dostal nasledovné hodnoty:\n",
    "\n",
    "**Accuracy**: 0.8503521126760564\n",
    "**Precision**: 0.8565292096219931\n",
    "**Recall**: 0.9188940092165898\n",
    "\n",
    "->**podľa RandomForestClassifier** natrénovaný klasifikátor dostal nasledovné hodnoty:\n",
    "\n",
    "**Accuracy**: 0.8615023474178404\n",
    "**Precision**: 0.8934198331788693\n",
    "**Recall**: 0.8884792626728111\n",
    "\n",
    "Vídime že **RandomForestClassifier** má najvyššiu presnosť, **DecisionTreeClassifier** má najlepší recall a **one-rule** zase najlepšiu precíznosť. Rozdiely sú však veľmi malé a nepodarilo sa nám zvýšiť presnosť nad 90%"
   ]
  },
  {
   "cell_type": "markdown",
   "id": "f05140e5",
   "metadata": {},
   "source": [
    "# Experiment so všetkými dátami\n",
    "\n",
    "V minulej fáze sme si uložili aj čisté pripravené dáta do súboru clean.csv, teraz si ich znovu načítame do premennej `clean` a skúsime si urobiť predikciu aj na tomto čistom datasete a pozrieme sa, či nedostaneme lepšie výsledky."
   ]
  },
  {
   "cell_type": "code",
   "execution_count": null,
   "id": "f9acbe0f-034c-47ab-babc-a8dec8f79eb1",
   "metadata": {},
   "outputs": [],
   "source": [
    "clean = pd.read_csv('data/clean.csv', index_col=0)\n",
    "clean.head()"
   ]
  },
  {
   "cell_type": "markdown",
   "id": "e77d64dc-4362-457a-91b1-3c7b4efce37d",
   "metadata": {},
   "source": [
    "V tomto datasete sa nachádzajú všetky stĺpce, nie iba tie, ktoré boli vybrané feature selection algoritmom. Môžeme teda vyskúšať, či odstránenie stĺpcov neznižuje presnosť natrénovaného modelu. Dáta si opäť rozdelíme na X a y, ktoré si následne rozdelíme na trénovaciu a testovaciu množinu v pomere 80:20."
   ]
  },
  {
   "cell_type": "code",
   "execution_count": null,
   "id": "b6159ef6-295c-477f-ac69-46599ac5bca5",
   "metadata": {},
   "outputs": [],
   "source": [
    "from sklearn.model_selection import train_test_split\n",
    "\n",
    "y_clean = clean.indicator\n",
    "X_clean = clean.drop(['indicator'], axis=1)\n",
    "\n",
    "X_train_clean, X_test_clean, y_train_clean, y_test_clean = train_test_split(X_clean, y_clean, test_size=0.2, random_state=42)"
   ]
  },
  {
   "cell_type": "markdown",
   "id": "92550be5-f046-4373-b019-1682fa8cec79",
   "metadata": {},
   "source": [
    "Natrénujeme si ďalší model s rovnakými parametrami (maximálna dĺžka 3 a random state 0). Následne si zistíme presnosť, precíznosť a recall a vidíme, že nám vyšli lepšie metriky ako pri predošlom datasete. Tento dataset však pracoval so všetkými atribútmi a teda mal oveľa viac stĺpcov k dispozícií. Cross-validácia taktiež vykazuje lepšie výsledky."
   ]
  },
  {
   "cell_type": "code",
   "execution_count": null,
   "id": "9269d332-e06c-47db-bb00-bcd1dabc9fb6",
   "metadata": {},
   "outputs": [],
   "source": [
    "clean_clf = DecisionTreeClassifier(max_depth=3, random_state=0)\n",
    "clean_clf.fit(X_train_clean, y_train_clean)\n",
    "clean_predict = clean_clf.predict(X_test_clean)\n",
    "\n",
    "print('Accuracy:', accuracy_score(y_test_clean, clean_predict))\n",
    "print('Precision:', precision_score(y_test_clean, clean_predict))\n",
    "print('Recall:', recall_score(y_test_clean, clean_predict))"
   ]
  },
  {
   "cell_type": "code",
   "execution_count": null,
   "id": "236dfe19-a159-4fbc-9ca9-09eeb10b5ca7",
   "metadata": {},
   "outputs": [],
   "source": [
    "scores = cross_val_score(clean_clf, X_test_clean, y_test_clean, cv=10)\n",
    "print(\"Presnost %0.2f so standardnou odchylkou %0.2f\" % (scores.mean(), scores.std()))"
   ]
  },
  {
   "cell_type": "markdown",
   "id": "65177332-887c-429c-a135-43784e0c87c6",
   "metadata": {},
   "source": [
    "Po vykreslení stromu môžeme pozorovať, že pri rozhodovaní boli použité atribúty na indexe 4 a 5. Môžeme si teda vypísať tieto atribúty a vidíme, že ide o `hbver` a `hematokrit` atribúty, ktoré sme používali aj v datasete s vybranými atribútmi. Navyše sa používal atribút na pozícii 1, čo je `trombocyty` a pravdepodobne práve tento atribút zvýšil presnosť modelu."
   ]
  },
  {
   "cell_type": "code",
   "execution_count": null,
   "id": "e960b6eb-4750-4785-9033-582ac2aa15ef",
   "metadata": {},
   "outputs": [],
   "source": [
    "tree.plot_tree(clean_clf);"
   ]
  },
  {
   "cell_type": "code",
   "execution_count": null,
   "id": "72de6d58-4ff9-43c3-84a1-7d85870bb008",
   "metadata": {},
   "outputs": [],
   "source": [
    "for i in list([1, 4, 5]):\n",
    "    print(X_train_clean.columns[i])"
   ]
  },
  {
   "cell_type": "markdown",
   "id": "dc47973e",
   "metadata": {},
   "source": [
    "Opäť si skúsime natrénovať 20 modelov s maximálnou hĺbkou od 1 do 20 a vidíme, že presnosť je v tomto prípade oveľa vyššia. Treba však brať do úvahy, že v tomto datasete je 26 stĺpcov, pričom v predošlom je iba 5, teda sme ušetrili obrovské množstvo dát. To sa môže prejaviť pri oveľa väčších datasetov, ktorých modely je potrebné trénovať niekoľko hodín. V takom prípade je samozrejme lepšie vybrať iba časť datasetu, aby sa trénovací a predikčný čas čo najviac skrátil a aby presnosť priveľmi neklesla."
   ]
  },
  {
   "cell_type": "code",
   "execution_count": null,
   "id": "13789330-96e5-4bbb-8024-6e040d468027",
   "metadata": {},
   "outputs": [],
   "source": [
    "results = []\n",
    "estimators = []\n",
    "for i in range(1, 21):  \n",
    "    row = {'model_complexity': i}\n",
    "    clf = DecisionTreeClassifier(max_depth = i, random_state=0) \n",
    "    \n",
    "    pred = clf.fit(X_train_clean, y_train_clean).predict(X_train_clean) \n",
    "    row['train'] = 1 - accuracy_score(y_train_clean, pred) \n",
    "    \n",
    "    pred = clf.predict(X_test_clean)\n",
    "    row['test'] = 1 - accuracy_score(y_test_clean, pred) \n",
    "    results.append(row)\n",
    "    estimators.append(clf)\n",
    "    \n",
    "complexity_df = pd.DataFrame(results).plot(x='model_complexity')"
   ]
  },
  {
   "cell_type": "markdown",
   "id": "9a7415e4",
   "metadata": {},
   "source": [
    "Aj na tomto datasete môžeme skúsiť `GridSearch` s rovnakými parametrami ako pri zmenšenom datasete. V tomto prípade nám vyšlo, že najlepší model používa entropy funkciu a maximálnu hĺbku až 7. Skúsime si teda tento model vyhodnotiť tak, ako pri testovaní `RandomForest`. V tomto prípade sme už konečne presiahli 90% pre každú metriku a cross-validácia taktiež ukazuje priemernú presnosť 91% s odchýlkou 2%."
   ]
  },
  {
   "cell_type": "code",
   "execution_count": null,
   "id": "76722275-dba5-459a-a29e-bb268b97fdb3",
   "metadata": {},
   "outputs": [],
   "source": [
    "parameters = {'criterion': ['gini', 'entropy'],\n",
    "              'splitter': ['best', 'random'],\n",
    "              'max_depth': [1, 2, 3, 4, 5, 6, 7, 8, 9, 10]}\n",
    "\n",
    "dtc = DecisionTreeClassifier()\n",
    "clf = GridSearchCV(dtc, parameters, scoring='accuracy', cv=5)\n",
    "clf.fit(X_train_clean, y_train_clean)\n",
    "\n",
    "clf.best_params_"
   ]
  },
  {
   "cell_type": "code",
   "execution_count": null,
   "id": "7e92c294",
   "metadata": {},
   "outputs": [],
   "source": [
    "pred = clf.best_estimator_.predict(X_test_clean)\n",
    "\n",
    "print('Accuracy:', accuracy_score(y_test_clean, pred))\n",
    "print('Precision:', precision_score(y_test_clean, pred))\n",
    "print('Recall:', recall_score(y_test_clean, pred))"
   ]
  },
  {
   "cell_type": "code",
   "execution_count": null,
   "id": "805dc4f2",
   "metadata": {},
   "outputs": [],
   "source": [
    "scores = cross_val_score(clf.best_estimator_, X_test_clean, y_test_clean, cv=10)\n",
    "print(\"Presnost %0.2f so standardnou odchylkou %0.2f\" % (scores.mean(), scores.std()))"
   ]
  },
  {
   "cell_type": "markdown",
   "id": "b36ff303",
   "metadata": {},
   "source": [
    "Tento model teda môžeme označiť za najpresnejší, ale čo ak overfittuje? Opäť si teda vykreslíme chybovosť na trénovacom a testovacom datasete a môžeme pozorovať, že chybovosť je výrazne nižšia ako pri zmenšenom datasete."
   ]
  },
  {
   "cell_type": "code",
   "execution_count": null,
   "id": "d759b478",
   "metadata": {},
   "outputs": [],
   "source": [
    "results = []\n",
    "estimators = []\n",
    "for i in range(1, 21):  \n",
    "    row = {'model_complexity': i}\n",
    "    clf = DecisionTreeClassifier(max_depth = i, random_state=0) \n",
    "    \n",
    "    pred = clf.fit(X_train_clean, y_train_clean).predict(X_train_clean) \n",
    "    row['train'] = 1 - accuracy_score(y_train_clean, pred) \n",
    "    \n",
    "    pred = clf.predict(X_test_clean)\n",
    "    row['test'] = 1 - accuracy_score(y_test_clean, pred) \n",
    "    results.append(row)\n",
    "    estimators.append(clf)\n",
    "    \n",
    "complexity_df = pd.DataFrame(results).plot(x='model_complexity')"
   ]
  },
  {
   "cell_type": "markdown",
   "id": "85297ef7",
   "metadata": {},
   "source": [
    "## Tvorba pipeline\n",
    "\n",
    "Teraz skúsime vytvoriť pipeline, ktorá najprv transformuje, a potom urobí trénovanie (alebo predikciu) modelu. Rovnako ako v druhej fáze, vytvoríme si samostatné pipeline na numerické a kategorické atribúty. Následne si vyberieme názvy stĺpcov, ktoré sú numerické a kategorické, a tieto stĺpce použijeme v ColumnTransformeri aby vedel, na ktorý atribút aplikovať aké operácie."
   ]
  },
  {
   "cell_type": "code",
   "execution_count": null,
   "id": "338d3011",
   "metadata": {},
   "outputs": [],
   "source": [
    "from sklearn.compose import ColumnTransformer\n",
    "from sklearn.pipeline import Pipeline\n",
    "from sklearn.impute import SimpleImputer\n",
    "from sklearn.preprocessing import MinMaxScaler, OneHotEncoder\n",
    "\n",
    "numeric_pipeline = Pipeline(steps=[\n",
    "    ('impute', SimpleImputer(strategy='mean')),\n",
    "    ('scale', MinMaxScaler())\n",
    "])\n",
    "\n",
    "categorical_pipeline = Pipeline(steps=[\n",
    "    ('impute', SimpleImputer(strategy='most_frequent')),\n",
    "    ('one-hot', OneHotEncoder(handle_unknown='ignore', sparse=False))\n",
    "])\n",
    "\n",
    "numeric_features = X_train_clean.select_dtypes(include='number').columns.tolist()\n",
    "categoric_features = X_train_clean.select_dtypes(exclude='number').columns.tolist()\n",
    "\n",
    "full_processor = ColumnTransformer(transformers=[\n",
    "    ('number', numeric_pipeline, numeric_features),\n",
    "    ('category', categorical_pipeline, categoric_features)\n",
    "])"
   ]
  },
  {
   "cell_type": "markdown",
   "id": "b47f4979",
   "metadata": {},
   "source": [
    "Následne tento preprocessor vložíme do ďalšej pipeline zakončenej rozhodovacím stromom, takže vložené dáta budú automaticky transformované a aj použité v modeli. Model najprv natrénujeme na trénovacích dátach z kompletného datasetu pomocou `fit()` a následne môžeme použiť `score()` na získanie presnosti modelu. Ak chceme prezerať aj ostatné metriky, môžeme použiť `predict()`.\n",
    "\n",
    "Tu môžeme sledovať zaujímavý výsledok - model sa transformáciami zhoršil. Nie veľmi, rozdiel je veľmi malý, ale napriek tomu je možné, že transformácia dát v tomto prípade škodí."
   ]
  },
  {
   "cell_type": "code",
   "execution_count": null,
   "id": "0c2a8864",
   "metadata": {},
   "outputs": [],
   "source": [
    "clf = Pipeline(steps=[\n",
    "    (\"preprocessor\", full_processor), \n",
    "    (\"classifier\", DecisionTreeClassifier(max_depth=7, random_state=42))\n",
    "])\n",
    "\n",
    "clf.fit(X_train_clean, y_train_clean)\n",
    "clf.score(X_test_clean, y_test_clean)"
   ]
  },
  {
   "cell_type": "code",
   "execution_count": null,
   "id": "c45edf01",
   "metadata": {},
   "outputs": [],
   "source": [
    "pred = clf.predict(X_test_clean)\n",
    "\n",
    "print('Accuracy:', accuracy_score(y_test_clean, pred))\n",
    "print('Precision:', precision_score(y_test_clean, pred))\n",
    "print('Recall:', recall_score(y_test_clean, pred))"
   ]
  },
  {
   "cell_type": "code",
   "execution_count": null,
   "id": "6eaaad02",
   "metadata": {},
   "outputs": [],
   "source": [
    "scores = cross_val_score(clf, X_test_clean, y_test_clean, cv=10)\n",
    "print(\"Presnost %0.2f so standardnou odchylkou %0.2f\" % (scores.mean(), scores.std()))"
   ]
  },
  {
   "cell_type": "markdown",
   "id": "a3ff42f9",
   "metadata": {},
   "source": [
    "Môžeme teda vyskúšať odstrániť niektorý krok z transformácie, v prvom prípade skúsime odstrániť OneHotEncoding a vidíme, že výsledky sú identické. Pri cross-validácii však môžeme vidieť, že výsledok je o 2% lepší."
   ]
  },
  {
   "cell_type": "code",
   "execution_count": null,
   "id": "bce3d808",
   "metadata": {},
   "outputs": [],
   "source": [
    "numeric_pipeline = Pipeline(steps=[\n",
    "    ('impute', SimpleImputer(strategy='mean')),\n",
    "    ('scale', MinMaxScaler())\n",
    "])\n",
    "\n",
    "categorical_pipeline = Pipeline(steps=[\n",
    "    ('impute', SimpleImputer(strategy='most_frequent'))\n",
    "])\n",
    "\n",
    "full_processor = ColumnTransformer(transformers=[\n",
    "    ('number', numeric_pipeline, numeric_features),\n",
    "    ('category', categorical_pipeline, categoric_features)\n",
    "])\n",
    "\n",
    "clf2 = Pipeline(steps=[\n",
    "    (\"preprocessor\", full_processor), \n",
    "    (\"classifier\", DecisionTreeClassifier(max_depth=7, random_state=42))\n",
    "])\n",
    "\n",
    "clf2.fit(X_train_clean, y_train_clean)\n",
    "pred = clf2.predict(X_test_clean)\n",
    "\n",
    "print('Accuracy:', accuracy_score(y_test_clean, pred))\n",
    "print('Precision:', precision_score(y_test_clean, pred))\n",
    "print('Recall:', recall_score(y_test_clean, pred))"
   ]
  },
  {
   "cell_type": "code",
   "execution_count": null,
   "id": "655761c4",
   "metadata": {},
   "outputs": [],
   "source": [
    "scores = cross_val_score(clf2, X_test_clean, y_test_clean, cv=10)\n",
    "print(\"Presnost %0.2f so standardnou odchylkou %0.2f\" % (scores.mean(), scores.std()))"
   ]
  },
  {
   "cell_type": "markdown",
   "id": "ca3acd96",
   "metadata": {},
   "source": [
    "Následne skúsime odstrániť škálovanie numerických atribútov. Výsledky dopadli rovnako ako pri predošlom pokuse, takže možno transformácie nakoniec až taký vplyv na presnosť modelu nemajú."
   ]
  },
  {
   "cell_type": "code",
   "execution_count": null,
   "id": "e240afb2",
   "metadata": {},
   "outputs": [],
   "source": [
    "numeric_pipeline = Pipeline(steps=[\n",
    "    ('impute', SimpleImputer(strategy='mean'))\n",
    "])\n",
    "\n",
    "categorical_pipeline = Pipeline(steps=[\n",
    "    ('impute', SimpleImputer(strategy='most_frequent')),\n",
    "    ('one-hot', OneHotEncoder(handle_unknown='ignore', sparse=False))\n",
    "])\n",
    "\n",
    "full_processor = ColumnTransformer(transformers=[\n",
    "    ('number', numeric_pipeline, numeric_features),\n",
    "    ('category', categorical_pipeline, categoric_features)\n",
    "])\n",
    "\n",
    "clf3 = Pipeline(steps=[\n",
    "    (\"preprocessor\", full_processor), \n",
    "    (\"classifier\", DecisionTreeClassifier(max_depth=7, random_state=42))\n",
    "])\n",
    "\n",
    "clf3.fit(X_train_clean, y_train_clean)\n",
    "pred = clf3.predict(X_test_clean)\n",
    "\n",
    "print('Accuracy:', accuracy_score(y_test_clean, pred))\n",
    "print('Precision:', precision_score(y_test_clean, pred))\n",
    "print('Recall:', recall_score(y_test_clean, pred))"
   ]
  },
  {
   "cell_type": "code",
   "execution_count": null,
   "id": "69f88eec",
   "metadata": {},
   "outputs": [],
   "source": [
    "scores = cross_val_score(clf3, X_test_clean, y_test_clean, cv=10)\n",
    "print(\"Presnost %0.2f so standardnou odchylkou %0.2f\" % (scores.mean(), scores.std()))"
   ]
  },
  {
   "cell_type": "markdown",
   "id": "035445a1-b896-4a0d-bb46-e7b0b54b7741",
   "metadata": {},
   "source": [
    "# Zhrnutie\n",
    "\n",
    "Zhodnotiť nami natrénované modely nie je tak jednoduché ako by sa mohlo spočiatku zdať. Rozdiely medzi jednotlivými modelmi vyšli relatívne malé a samotnú presnosť sa nám nepodarilo dostať nad hranicu 90%.\n",
    "\n",
    "### Model s vybranými atribútmi\n",
    "\n",
    "\n",
    "**Najvyššiu presnosť (accuracy)** dosiahol **RandomForestClassifier** s úspešnosťou **0.8615023474178404**\n",
    "\n",
    "**Najlepší recall** má **DecisionTreeClassifier** s úspešnosťou **0.9188940092165898**\n",
    "\n",
    "**Najlepšiu precíznosť** má **One-rule algoritmus** s úspešnosťou **0.9047263681592039**\n",
    "\n",
    "Ak máme teda označiť jeden z modelov ako najlepší, môžme postupovať poďľa výsledku celkovej presnosti (accuracy). Táto hodnota nie je jedinou smerodajnou hodnotou, no hovorí o tom, v koľkých prípadoch z celkového počtu klasifikácií správne predikoval výslednú hodnotu premennej `indicator`\n",
    "\n",
    "Podľa parametru **accuracy** nám ako najlepší model v našom projekte vyšiel **RandomForestClassifier**, kde sme si pomocou `GridSearchCV` zároveň našli aj najlepšie parametre pre tento klasifikátor, ktoré nám určilo ako: `klasifikátor s bootstrap, entropy funkciou, maximálnou hĺbkou 5 a počtom stromov 100`.\n",
    "\n",
    "Na vyhodnotenie modelov sme používali vyššie spomínané metriky klasifikačnej evaluácie, spomínané vyššie (Accuracy, Precision, Recall). Taktiež sme používali aj cross-validáciu a presnoť pomocou nej, a taktiež štandardnú odchýľku.\n",
    "\n",
    "Zo samotných dát sme ako indikátory vo finálnych 'zjednodušených' modeloch používali 5 indikátorov ktorými boli (zoradené podľa dôležitosti): \n",
    "1. hbver\n",
    "2. hematokrit\n",
    "3. weight\n",
    "4. er-cv\n",
    "5. hemoglobin\n",
    "\n",
    "\n",
    "### Model s kompletnými dátami\n",
    "\n",
    "\n",
    "Nakoniec sme si skúsili vytvoriť a pracovať aj s modelmi ktoré pracovali s kompletnými dátami a ktoré v nejakej forme obsahovali všetky z pôvodných atribútov. Pri tomto modeli pracujúcom s kompletnými dátami sme si pomocou DecisionTreeClassifier dosiahli hodnoty:\n",
    "**Accuracy: 0.9096244131455399**\n",
    "**Precision: 0.9130434782608695**\n",
    "**Recall: 0.9483870967741935**\n",
    "\n",
    "Prekonali sme teda pomyselnú hranicu 90%, no tento model pracuje so všetkými parametrami, čo sa môže časovo nagatívne prejaviť pri trénovaní a behu na veľkom množstve dát. Skúsili sme tento model potiahnuť ešte ďalej, a pomocou `GridSearchCV` sme zistili, že ideálnymi hodnotami pre tento model sú `{'criterion': 'entropy', 'max_depth': 7, 'splitter': 'best'}`\n",
    "\n",
    "Po cross-validácií sme dostali presnosť 0.91 so štandardnou odchýlkou 0.02\n",
    "Tento model teda môžeme označiť za najpresnejší, no teoreticky by mohol overfittovať. Vykreslili sme si teda chybovosť na trénovacom a testovacom datasete pozorovali sme, že chybovosť je výrazne nižšia ako pri zmenšenom datasete s menším počtom atribútov. \n",
    "\n",
    "Pri práci s modelom s kompletnými dátami sme pozorovali niečo nezvyčajné - model sa transformáciami zhoršil. Rozdiel bol však malý, no napriek tomu je možné, že transformácia dát v tomto prípade škodí, čo sme si overili ešte postupným odstraňovaním časti transformácie. Najprv sme skúsili odstrániť OneHotEncoding a zistili sme že výsledky vyšli totožné. Pri cross-validácii nám však vyšiel výsledok lepší o 2%. Potom sme skúsili odstrániť škálovanie numerických atribútov, kde nám výsledky dopadli porobne ako pri odstraňovaní OneHotEncoding, z čoho môžme pravdepodobne vyvodiť že transformácie nemusia mať až taký výrazný vplyv na presnosť modelu.\n",
    "\n"
   ]
  },
  {
   "cell_type": "markdown",
   "id": "dff573b9",
   "metadata": {},
   "source": []
  }
 ],
 "metadata": {
  "kernelspec": {
   "display_name": "Python 3 (ipykernel)",
   "language": "python",
   "name": "python3"
  },
  "language_info": {
   "codemirror_mode": {
    "name": "ipython",
    "version": 3
   },
   "file_extension": ".py",
   "mimetype": "text/x-python",
   "name": "python",
   "nbconvert_exporter": "python",
   "pygments_lexer": "ipython3",
   "version": "3.8.11"
  }
 },
 "nbformat": 4,
 "nbformat_minor": 5
}
